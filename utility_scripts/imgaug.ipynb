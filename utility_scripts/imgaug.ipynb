{
 "cells": [
  {
   "cell_type": "code",
   "execution_count": 1,
   "metadata": {},
   "outputs": [],
   "source": [
    "import os\n",
    "import numpy as np\n",
    "import cv2"
   ]
  },
  {
   "cell_type": "code",
   "execution_count": 24,
   "metadata": {},
   "outputs": [],
   "source": [
    "image_path='C:/Pranto/imgaug/test/test_148.jpg'\n",
    "label_path='C:/Pranto/imgaug/test/test_148.txt'\n",
    "save_path='C:/Pranto/imgaug/test/'"
   ]
  },
  {
   "cell_type": "code",
   "execution_count": 29,
   "metadata": {},
   "outputs": [],
   "source": [
    "def labelAugmentation(label_path, save_path, aug):\n",
    "    with open(label_path, 'rt') as fd:\n",
    "        text_content=[]\n",
    "\n",
    "        for line in fd.readlines():\n",
    "            row = []\n",
    "            splited = line.strip().split(' ')\n",
    "\n",
    "            x_center = float(splited[1])\n",
    "            y_center = float(splited[2])\n",
    "            box_width = float(splited[3])\n",
    "            box_height = float(splited[4])\n",
    "\n",
    "            if (aug=='C90'):\n",
    "                new_xcenter= float(1-y_center)\n",
    "                new_ycenter= float(x_center)\n",
    "                new_width= box_height\n",
    "                new_height= box_width\n",
    "\n",
    "            elif (aug=='C180'):\n",
    "                new_xcenter= float(1-x_center)\n",
    "                new_ycenter= float(1-y_center)\n",
    "                new_width= box_width\n",
    "                new_height= box_height\n",
    "            \n",
    "            elif (aug=='C270'):\n",
    "                new_xcenter= float(y_center)\n",
    "                new_ycenter= float(1-x_center)\n",
    "                new_width= box_height\n",
    "                new_height= box_width\n",
    "\n",
    "            elif (aug== 'FlipY'):\n",
    "                new_xcenter= float(1-x_center)\n",
    "                new_ycenter= float(y_center)\n",
    "                new_width= box_width\n",
    "                new_height= box_height\n",
    "\n",
    "            else:\n",
    "                print(\"Not valid augmentation parameter! Try with 'C90', 'C180', 'C270' or 'FlipY' \")\n",
    "                return\n",
    "\n",
    "\n",
    "            row.append(int(splited[0]))\n",
    "            row.append(new_xcenter)\n",
    "            row.append(new_ycenter)\n",
    "            row.append(new_width)\n",
    "            row.append(new_height)\n",
    "\n",
    "            text_content.append(row)\n",
    "\n",
    "        np.savetxt(save_path+os.path.basename(label_path)[:-4]+'_'+aug+'.txt',text_content,delimiter=' ',fmt='%d %f %f %f %f')\n"
   ]
  },
  {
   "cell_type": "code",
   "execution_count": 49,
   "metadata": {},
   "outputs": [],
   "source": [
    "labelAugmentation('C:/Pranto/imgaug/test/test_148.txt','C:/Pranto/imgaug/test/','C270')"
   ]
  },
  {
   "cell_type": "code",
   "execution_count": null,
   "metadata": {},
   "outputs": [],
   "source": []
  }
 ],
 "metadata": {
  "kernelspec": {
   "display_name": "base",
   "language": "python",
   "name": "python3"
  },
  "language_info": {
   "codemirror_mode": {
    "name": "ipython",
    "version": 3
   },
   "file_extension": ".py",
   "mimetype": "text/x-python",
   "name": "python",
   "nbconvert_exporter": "python",
   "pygments_lexer": "ipython3",
   "version": "3.10.9"
  }
 },
 "nbformat": 4,
 "nbformat_minor": 2
}
