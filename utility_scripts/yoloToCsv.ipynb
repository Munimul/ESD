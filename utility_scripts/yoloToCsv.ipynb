{
 "cells": [
  {
   "cell_type": "code",
   "execution_count": 1,
   "metadata": {},
   "outputs": [],
   "source": [
    "import os\n",
    "import glob\n",
    "import pandas as pd\n",
    "\n",
    "path = 'C:/Pranto/Research/ESD/Data/Ready to Train/all_labelled/data/all/original/label/'\n",
    "destination_dir='C:/Pranto/Research/ESD/Data/Ready to Train/all_labelled/data/all/original/'\n",
    "\n",
    "myFiles = glob.glob(path+'/*.txt')\n",
    "\n",
    "img_width=416\n",
    "img_height=416\n",
    "final_df=[]\n",
    "for item in myFiles:\n",
    "       \n",
    "    with open(item, 'rt') as fd:\n",
    "        for line in fd.readlines():\n",
    "            row = []\n",
    "            splited = line.strip().split(' ')\n",
    "                \n",
    "                    \n",
    "# img_id,class, x_center, y_center, x_min, y_min, x_max, y_max, width, height\n",
    "            x_center = float(splited[1])\n",
    "            y_center = float(splited[2])\n",
    "            width = float(splited[3])\n",
    "            height = float(splited[4])\n",
    "\n",
    "            x_min = int((x_center - (width / 2)) * img_width)\n",
    "            y_min = int((y_center - (height / 2)) * img_height)\n",
    "            x_max = int((x_center + (width / 2)) * img_width)\n",
    "            y_max = int((y_center + (height / 2)) * img_height)\n",
    "            width = int(width*416)\n",
    "            height = int(height*416)\n",
    "\n",
    "            row.append(os.path.basename(item)[:-4])\n",
    "            row.append(int(splited[0]))\n",
    "            row.append(x_center)\n",
    "            row.append(y_center)\n",
    "            row.append(x_min)\n",
    "            row.append(y_min)\n",
    "            row.append(x_max)\n",
    "            row.append(y_max)\n",
    "                    \n",
    "            row.append(width)\n",
    "            row.append(height)\n",
    "                    \n",
    "            final_df.append(row)\n",
    "\n",
    "\n",
    "df = pd.DataFrame(final_df)\n",
    "    #df.rename(columns={'0': 'img_id', '1': 'class','2':'x_center','3':'y_center','4':'x_min','5':'y_min','6':'x_max','7':'y_max','8':'width','9':'height',}, inplace=True)\n",
    "df.columns=['img_id','class','x_center', 'y_center', 'x_min', 'y_min', 'x_max', 'y_max', 'width','height']\n",
    "#print(df.columns.values)\n",
    "df.to_csv(destination_dir+\"/allLabels.csv\",index=False)"
   ]
  },
  {
   "cell_type": "code",
   "execution_count": null,
   "metadata": {},
   "outputs": [],
   "source": []
  }
 ],
 "metadata": {
  "kernelspec": {
   "display_name": "base",
   "language": "python",
   "name": "python3"
  },
  "language_info": {
   "codemirror_mode": {
    "name": "ipython",
    "version": 3
   },
   "file_extension": ".py",
   "mimetype": "text/x-python",
   "name": "python",
   "nbconvert_exporter": "python",
   "pygments_lexer": "ipython3",
   "version": "3.10.9"
  }
 },
 "nbformat": 4,
 "nbformat_minor": 2
}
