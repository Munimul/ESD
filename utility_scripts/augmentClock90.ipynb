{
 "cells": [
  {
   "cell_type": "code",
   "execution_count": 3,
   "metadata": {},
   "outputs": [],
   "source": [
    "#import library\n",
    "import glob\n",
    "import os\n",
    "import numpy as np\n",
    "import cv2\n",
    "\n",
    "# Image Path, Labels path, save path\n",
    "\n",
    "image_path='C:/Pranto/Research/ESD/Data/Ready to Train/all_labelled/data/all/c90/images/'\n",
    "label_path='C:/Pranto/Research/ESD/Data/Ready to Train/all_labelled/data/all/c90/labels'\n",
    "\n",
    "save_path='C:/Pranto/Research/ESD/Data/Ready to Train/all_labelled/data/all/c180/'\n",
    "\n",
    "\n",
    "# saving image files and text files\n",
    "imgFiles = glob.glob(image_path+'/*.jpg')\n",
    "textFiles = glob.glob(label_path+'/*.txt')\n",
    "\n",
    "\n",
    "# batch rotate image\n",
    "\n",
    "for img in imgFiles:\n",
    "    image=cv2.imread(img)\n",
    "    image_rot = cv2.rotate(image, cv2.ROTATE_90_CLOCKWISE)\n",
    "    cv2.imwrite(save_path+os.path.basename(img)[:-4]+'_C180.jpg',image_rot)\n",
    "\n",
    "# batch rotate labels\n",
    "\n",
    "for file in textFiles:\n",
    "    with open(file, 'rt') as fd:\n",
    "        text_content=[]\n",
    "        #filename=os.path.basename(text_file)[:-4]+'_r90'\n",
    "        for line in fd.readlines():\n",
    "            row = []\n",
    "            splited = line.strip().split(' ')\n",
    "                \n",
    "\n",
    "            x_center = float(splited[1])\n",
    "            y_center = float(splited[2])\n",
    "            box_width = float(splited[3])\n",
    "            box_height = float(splited[4])\n",
    "            \n",
    "\n",
    "            new_xcenter= float(1-y_center)\n",
    "            new_ycenter= float(x_center)\n",
    "\n",
    "            row.append(int(splited[0]))\n",
    "            row.append(new_xcenter)\n",
    "            row.append(new_ycenter)\n",
    "            row.append(box_height)\n",
    "            row.append(box_width)\n",
    "\n",
    "                    \n",
    "            text_content.append(row)\n",
    "        np.savetxt(save_path+os.path.basename(file)[:-4]+'_C180.txt',text_content,delimiter=' ',fmt='%d %f %f %f %f')"
   ]
  },
  {
   "cell_type": "code",
   "execution_count": null,
   "metadata": {},
   "outputs": [],
   "source": []
  }
 ],
 "metadata": {
  "kernelspec": {
   "display_name": "base",
   "language": "python",
   "name": "python3"
  },
  "language_info": {
   "codemirror_mode": {
    "name": "ipython",
    "version": 3
   },
   "file_extension": ".py",
   "mimetype": "text/x-python",
   "name": "python",
   "nbconvert_exporter": "python",
   "pygments_lexer": "ipython3",
   "version": "3.10.9"
  }
 },
 "nbformat": 4,
 "nbformat_minor": 2
}
