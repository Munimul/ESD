{
 "cells": [
  {
   "cell_type": "code",
   "execution_count": 16,
   "metadata": {},
   "outputs": [],
   "source": [
    "import os\n",
    "import cv2\n",
    "import glob\n",
    "\n",
    "img_path='C:/Pranto/Research/ESD/Data/1401_1699/'\n",
    "save_path='C:/Pranto/Research/ESD/Data/1401_1699/resized/'\n",
    "\n",
    "imgFiles = glob.glob(img_path+'/*.jpg')\n",
    "\n",
    "for img in imgFiles:\n",
    "    image=cv2.imread(img)\n",
    "    output=cv2.resize(image,(416,416))\n",
    "    cv2.imwrite(save_path + 'image'+os.path.basename(img)[5:],output)"
   ]
  },
  {
   "cell_type": "code",
   "execution_count": null,
   "metadata": {},
   "outputs": [],
   "source": []
  }
 ],
 "metadata": {
  "kernelspec": {
   "display_name": "base",
   "language": "python",
   "name": "python3"
  },
  "language_info": {
   "codemirror_mode": {
    "name": "ipython",
    "version": 3
   },
   "file_extension": ".py",
   "mimetype": "text/x-python",
   "name": "python",
   "nbconvert_exporter": "python",
   "pygments_lexer": "ipython3",
   "version": "3.10.9"
  }
 },
 "nbformat": 4,
 "nbformat_minor": 2
}
