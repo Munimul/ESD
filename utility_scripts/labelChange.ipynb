{
 "cells": [
  {
   "cell_type": "code",
   "execution_count": null,
   "metadata": {},
   "outputs": [],
   "source": [
    "# Change labels\n",
    "\n",
    "\n",
    "import os\n",
    "# Directory where the .txt files are located\n",
    "dir_path = \"C:/Pranto/Research/ESD/Data/Ready to Train/labeled_data_200_400\"\n",
    "save_path = \"C:/Pranto/Research/ESD/Data/Ready to Train/labeled_data_200_400/labels/\"\n",
    "\n",
    "if not os.path.exists(save_path):\n",
    "    os.makedirs(save_path)\n",
    "\n",
    "# Loop through each file in the directory\n",
    "for filename in os.listdir(dir_path):\n",
    "    if filename.endswith(\".txt\"):\n",
    "        # Open the file and read its content\n",
    "        with open(os.path.join(dir_path, filename), \"r\") as f:\n",
    "            content = f.read()\n",
    "        \n",
    "        # Replace all occurrences of \"15 \" with \"0 \"\n",
    "        content = content.replace(\"15 \", \"0 \")\n",
    "        \n",
    "        # Save the modified content back to the file\n",
    "        with open(os.path.join(save_path, filename), \"w\") as f:\n",
    "            f.write(content)"
   ]
  }
 ],
 "metadata": {
  "language_info": {
   "name": "python"
  }
 },
 "nbformat": 4,
 "nbformat_minor": 2
}
